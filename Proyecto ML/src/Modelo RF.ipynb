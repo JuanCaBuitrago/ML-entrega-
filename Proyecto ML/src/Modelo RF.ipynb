{
 "cells": [
  {
   "cell_type": "code",
   "execution_count": 1,
   "metadata": {},
   "outputs": [],
   "source": [
    "import pandas as pd\n",
    "import numpy as np\n",
    "from sklearn.model_selection import train_test_split\n",
    "from sklearn.linear_model import LinearRegression\n",
    "from sklearn.tree import DecisionTreeRegressor\n",
    "from sklearn.ensemble import RandomForestRegressor, GradientBoostingRegressor\n",
    "from sklearn.metrics import mean_absolute_error, mean_squared_error, r2_score\n"
   ]
  },
  {
   "cell_type": "code",
   "execution_count": null,
   "metadata": {},
   "outputs": [],
   "source": [
    "\n",
    "df_cars=pd.read_csv(r\"C:\\Users\\Usuario\\Documents\\Proyecto ML\\src\\USA_cars_datasets.csv\")"
   ]
  },
  {
   "cell_type": "code",
   "execution_count": 3,
   "metadata": {},
   "outputs": [
    {
     "name": "stdout",
     "output_type": "stream",
     "text": [
      "\n",
      "Resultados de los modelos:\n",
      "                           MAE         RMSE        R2\n",
      "Linear Regression  4514.593208  6774.642117  0.710424\n",
      "Decision Tree      4610.134000  7637.756159  0.631938\n",
      "Random Forest      4077.633080  6495.454805  0.733799\n",
      "Gradient Boosting  5206.801937  7339.885309  0.660087\n",
      "\n",
      "El mejor modelo es: Random Forest con R2 = 0.7338\n"
     ]
    },
    {
     "data": {
      "text/plain": [
       "'\\n# Guardar el modelo final\\nbest_model.fit(X, y)\\nimport joblib\\njoblib.dump(best_model, \\'best_model.pkl\\')\\nprint(\"\\nEl mejor modelo ha sido guardado como \\'best_model.pkl\\'.\")\\n'"
      ]
     },
     "execution_count": 3,
     "metadata": {},
     "output_type": "execute_result"
    }
   ],
   "source": [
    "X = df_cars.drop(columns=['price'])  # Características\n",
    "y = df_cars['price']  # Columna objetivo\n",
    "\n",
    "# Convertir variables categóricas a numéricas (si existen)\n",
    "X = pd.get_dummies(X, drop_first=True)\n",
    "\n",
    "# Dividir los datos en conjunto de entrenamiento y prueba\n",
    "X_train, X_test, y_train, y_test = train_test_split(X, y, test_size=0.2, random_state=42)\n",
    "\n",
    "# Definir modelos candidatos\n",
    "models = {\n",
    "    'Linear Regression': LinearRegression(),\n",
    "    'Decision Tree': DecisionTreeRegressor(random_state=42),\n",
    "    'Random Forest': RandomForestRegressor(random_state=42),\n",
    "    'Gradient Boosting': GradientBoostingRegressor(random_state=42)\n",
    "}\n",
    "\n",
    "# Evaluar modelos\n",
    "results = {}\n",
    "for name, model in models.items():\n",
    "    model.fit(X_train, y_train)\n",
    "    y_pred = model.predict(X_test)\n",
    "\n",
    "    # Calcular métricas\n",
    "    mae = mean_absolute_error(y_test, y_pred)\n",
    "    rmse = np.sqrt(mean_squared_error(y_test, y_pred))\n",
    "    r2 = r2_score(y_test, y_pred)\n",
    "\n",
    "    results[name] = {'MAE': mae, 'RMSE': rmse, 'R2': r2}\n",
    "\n",
    "# Mostrar los resultados\n",
    "results_df = pd.DataFrame(results).T\n",
    "print(\"\\nResultados de los modelos:\")\n",
    "print(results_df)\n",
    "\n",
    "# Identificar el mejor modelo\n",
    "best_model_name = results_df['R2'].idxmax()\n",
    "best_model = models[best_model_name]\n",
    "print(f\"\\nEl mejor modelo es: {best_model_name} con R2 = {results_df.loc[best_model_name, 'R2']:.4f}\")\n",
    "\n",
    "'''\n",
    "# Guardar el modelo final\n",
    "best_model.fit(X, y)\n",
    "import joblib\n",
    "joblib.dump(best_model, 'best_model.pkl')\n",
    "print(\"\\nEl mejor modelo ha sido guardado como 'best_model.pkl'.\")\n",
    "'''"
   ]
  },
  {
   "cell_type": "markdown",
   "metadata": {},
   "source": [
    "--------------------------------------------------------------------------------------------------------------------------------------"
   ]
  },
  {
   "cell_type": "markdown",
   "metadata": {},
   "source": [
    "# Carga de librerías necesarias\n",
    "import pandas as pd\n",
    "import numpy as np\n",
    "from sklearn.model_selection import train_test_split, GridSearchCV\n",
    "from sklearn.linear_model import LinearRegression\n",
    "from sklearn.tree import DecisionTreeRegressor\n",
    "from sklearn.ensemble import RandomForestRegressor, GradientBoostingRegressor\n",
    "from sklearn.metrics import mean_absolute_error, mean_squared_error, r2_score\n",
    "\n",
    "# Leer el archivo CSV\n",
    "data_path = '/mnt/data/USA_cars_datasets.csv'\n",
    "data = pd.read_csv(data_path)\n",
    "\n",
    "# Inspeccionar las primeras filas del dataset\n",
    "print(\"Primeras filas del dataset:\")\n",
    "print(data.head())\n",
    "\n",
    "# Verificar columnas y valores faltantes\n",
    "print(\"\\nColumnas del dataset:\")\n",
    "print(data.info())\n",
    "\n",
    "# Identificar la columna objetivo y las características relevantes\n",
    "# Suponemos que 'price' es el objetivo y eliminamos columnas irrelevantes\n",
    "# Nota: Esto debe ajustarse dependiendo de las columnas reales del archivo.\n",
    "if 'price' not in data.columns:\n",
    "    raise ValueError(\"No se encuentra la columna 'price' en el dataset.\")\n",
    "\n",
    "X = data.drop(columns=['price'])  # Características\n",
    "y = data['price']  # Columna objetivo\n",
    "\n",
    "# Convertir variables categóricas a numéricas (si existen)\n",
    "X = pd.get_dummies(X, drop_first=True)\n",
    "\n",
    "# Dividir los datos en conjunto de entrenamiento y prueba\n",
    "X_train, X_test, y_train, y_test = train_test_split(X, y, test_size=0.2, random_state=42)\n",
    "\n",
    "# Ajustar hiperparámetros para el mejor modelo\n",
    "# Basado en los resultados iniciales, ajustaremos Random Forest y Gradient Boosting\n",
    "if 'Gradient Boosting' not in models:\n",
    "    models['Gradient Boosting'] = GradientBoostingRegressor(random_state=42)\n",
    "\n",
    "param_grid = {\n",
    "    'Gradient Boosting': {\n",
    "        'n_estimators': [100, 200, 300],\n",
    "        'learning_rate': [0.05, 0.1, 0.2],\n",
    "        'max_depth': [3, 5, 7]\n",
    "    }\n",
    "}\n",
    "\n",
    "best_model_name = 'Gradient Boosting'\n",
    "grid_search = GridSearchCV(models[best_model_name], param_grid[best_model_name], scoring='r2', cv=5, n_jobs=-1)\n",
    "grid_search.fit(X_train, y_train)\n",
    "\n",
    "# Mejor modelo y parámetros\n",
    "optimized_model = grid_search.best_estimator_\n",
    "print(f\"\\nMejor modelo después de la optimización: {optimized_model}\")\n",
    "\n",
    "# Evaluar el modelo optimizado\n",
    "y_pred_optimized = optimized_model.predict(X_test)\n",
    "mae = mean_absolute_error(y_test, y_pred_optimized)\n",
    "rmse = np.sqrt(mean_squared_error(y_test, y_pred_optimized))\n",
    "r2 = r2_score(y_test, y_pred_optimized)\n",
    "\n",
    "print(\"\\nResultados del modelo optimizado:\")\n",
    "print(f\"MAE: {mae:.2f}, RMSE: {rmse:.2f}, R2: {r2:.4f}\")\n",
    "\n",
    "# Guardar el modelo optimizado\n",
    "import joblib\n",
    "joblib.dump(optimized_model, 'optimized_best_model.pkl')\n",
    "print(\"\\nEl modelo optimizado ha sido guardado como 'optimized_best_model.pkl'.\")\n"
   ]
  }
 ],
 "metadata": {
  "kernelspec": {
   "display_name": "Python 3",
   "language": "python",
   "name": "python3"
  },
  "language_info": {
   "codemirror_mode": {
    "name": "ipython",
    "version": 3
   },
   "file_extension": ".py",
   "mimetype": "text/x-python",
   "name": "python",
   "nbconvert_exporter": "python",
   "pygments_lexer": "ipython3",
   "version": "3.9.6"
  }
 },
 "nbformat": 4,
 "nbformat_minor": 2
}
